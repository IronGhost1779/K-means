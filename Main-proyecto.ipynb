{
 "cells": [
  {
   "cell_type": "code",
   "execution_count": 1,
   "id": "092dbc19",
   "metadata": {},
   "outputs": [],
   "source": [
    "import pandas as pd"
   ]
  },
  {
   "cell_type": "code",
   "execution_count": 2,
   "id": "a645b5bc",
   "metadata": {},
   "outputs": [],
   "source": [
    "import numpy as np\n",
    "from sklearn.cluster import KMeans\n",
    "import matplotlib.pyplot as plt\n",
    "import seaborn as sb\n",
    "from sklearn.metrics import pairwise_distances_argmin_min\n",
    "from mpl_toolkits.mplot3d import Axes3D"
   ]
  },
  {
   "cell_type": "code",
   "execution_count": 3,
   "id": "36aecf9c",
   "metadata": {
    "scrolled": true
   },
   "outputs": [
    {
     "data": {
      "text/html": [
       "<div>\n",
       "<style scoped>\n",
       "    .dataframe tbody tr th:only-of-type {\n",
       "        vertical-align: middle;\n",
       "    }\n",
       "\n",
       "    .dataframe tbody tr th {\n",
       "        vertical-align: top;\n",
       "    }\n",
       "\n",
       "    .dataframe thead th {\n",
       "        text-align: right;\n",
       "    }\n",
       "</style>\n",
       "<table border=\"1\" class=\"dataframe\">\n",
       "  <thead>\n",
       "    <tr style=\"text-align: right;\">\n",
       "      <th></th>\n",
       "      <th>�</th>\n",
       "      <th>Sin estrato *</th>\n",
       "      <th>1. Bajo - bajo</th>\n",
       "      <th>2. Bajo</th>\n",
       "      <th>3. Medio - bajo</th>\n",
       "      <th>4. Medio</th>\n",
       "      <th>5. Medio - Alto</th>\n",
       "      <th>6. Alto</th>\n",
       "      <th>Latitud</th>\n",
       "      <th>Longitud</th>\n",
       "      <th>...</th>\n",
       "      <th>Estrato 3 a�o 2018</th>\n",
       "      <th>Estrato 4 A�o 2018</th>\n",
       "      <th>Estrato 5 a�o 2018</th>\n",
       "      <th>Estrato 6 A�o 2018</th>\n",
       "      <th>Paquetes por UPZ</th>\n",
       "      <th>Precio promedio por m� por UPZ</th>\n",
       "      <th>Paquetes/Precio</th>\n",
       "      <th>Puntaje paqueteria</th>\n",
       "      <th>Puntaje precio</th>\n",
       "      <th>Puntaje total</th>\n",
       "    </tr>\n",
       "  </thead>\n",
       "  <tbody>\n",
       "    <tr>\n",
       "      <th>0</th>\n",
       "      <td>1 Paseo de los Libertadores</td>\n",
       "      <td>198.0</td>\n",
       "      <td>10.000</td>\n",
       "      <td>2.587</td>\n",
       "      <td>0.000</td>\n",
       "      <td>0.000</td>\n",
       "      <td>0.000</td>\n",
       "      <td>702.0</td>\n",
       "      <td>4.796</td>\n",
       "      <td>-74.034</td>\n",
       "      <td>...</td>\n",
       "      <td>0</td>\n",
       "      <td>0</td>\n",
       "      <td>0</td>\n",
       "      <td>504</td>\n",
       "      <td>13283</td>\n",
       "      <td>2775093</td>\n",
       "      <td>0,0047865</td>\n",
       "      <td>0</td>\n",
       "      <td>13</td>\n",
       "      <td>7</td>\n",
       "    </tr>\n",
       "    <tr>\n",
       "      <th>1</th>\n",
       "      <td>2 La Academia</td>\n",
       "      <td>221.0</td>\n",
       "      <td>0.000</td>\n",
       "      <td>8.000</td>\n",
       "      <td>0.000</td>\n",
       "      <td>0.000</td>\n",
       "      <td>334.000</td>\n",
       "      <td>310.0</td>\n",
       "      <td>4.786</td>\n",
       "      <td>-74.049</td>\n",
       "      <td>...</td>\n",
       "      <td>0</td>\n",
       "      <td>0</td>\n",
       "      <td>197</td>\n",
       "      <td>183</td>\n",
       "      <td>4867</td>\n",
       "      <td>5211913</td>\n",
       "      <td>0,0009339</td>\n",
       "      <td>0</td>\n",
       "      <td>6</td>\n",
       "      <td>3</td>\n",
       "    </tr>\n",
       "    <tr>\n",
       "      <th>2</th>\n",
       "      <td>3 Guaymaral</td>\n",
       "      <td>14.0</td>\n",
       "      <td>0.000</td>\n",
       "      <td>0.000</td>\n",
       "      <td>0.000</td>\n",
       "      <td>2.000</td>\n",
       "      <td>0.000</td>\n",
       "      <td>152.0</td>\n",
       "      <td>4.814</td>\n",
       "      <td>-74.066</td>\n",
       "      <td>...</td>\n",
       "      <td>0</td>\n",
       "      <td>24</td>\n",
       "      <td>0</td>\n",
       "      <td>1835</td>\n",
       "      <td>27837</td>\n",
       "      <td>7369048</td>\n",
       "      <td>0,0037775</td>\n",
       "      <td>1</td>\n",
       "      <td>1</td>\n",
       "      <td>1</td>\n",
       "    </tr>\n",
       "    <tr>\n",
       "      <th>3</th>\n",
       "      <td>9 Verbenal</td>\n",
       "      <td>78.0</td>\n",
       "      <td>5.319</td>\n",
       "      <td>21.935</td>\n",
       "      <td>62.885</td>\n",
       "      <td>3.854</td>\n",
       "      <td>5.288</td>\n",
       "      <td>0.0</td>\n",
       "      <td>4.765</td>\n",
       "      <td>-74.038</td>\n",
       "      <td>...</td>\n",
       "      <td>71191</td>\n",
       "      <td>4363</td>\n",
       "      <td>5986</td>\n",
       "      <td>0</td>\n",
       "      <td>522606</td>\n",
       "      <td>2099151</td>\n",
       "      <td>0,2489608</td>\n",
       "      <td>10</td>\n",
       "      <td>15</td>\n",
       "      <td>13</td>\n",
       "    </tr>\n",
       "    <tr>\n",
       "      <th>4</th>\n",
       "      <td>10 La Uribe</td>\n",
       "      <td>135.0</td>\n",
       "      <td>7.000</td>\n",
       "      <td>543.000</td>\n",
       "      <td>12.136</td>\n",
       "      <td>4.566</td>\n",
       "      <td>0.000</td>\n",
       "      <td>0.0</td>\n",
       "      <td>4.752</td>\n",
       "      <td>-74.045</td>\n",
       "      <td>...</td>\n",
       "      <td>21509</td>\n",
       "      <td>8092</td>\n",
       "      <td>0</td>\n",
       "      <td>0</td>\n",
       "      <td>159236</td>\n",
       "      <td>2501438</td>\n",
       "      <td>0,0636578</td>\n",
       "      <td>3</td>\n",
       "      <td>14</td>\n",
       "      <td>9</td>\n",
       "    </tr>\n",
       "  </tbody>\n",
       "</table>\n",
       "<p>5 rows × 24 columns</p>\n",
       "</div>"
      ],
      "text/plain": [
       "                             �  Sin estrato *  1. Bajo - bajo  2. Bajo  \\\n",
       "0  1 Paseo de los Libertadores          198.0          10.000    2.587   \n",
       "1                2 La Academia          221.0           0.000    8.000   \n",
       "2                  3 Guaymaral           14.0           0.000    0.000   \n",
       "3                   9 Verbenal           78.0           5.319   21.935   \n",
       "4                  10 La Uribe          135.0           7.000  543.000   \n",
       "\n",
       "   3. Medio - bajo  4. Medio  5. Medio - Alto  6. Alto  Latitud  Longitud  \\\n",
       "0            0.000     0.000            0.000    702.0    4.796   -74.034   \n",
       "1            0.000     0.000          334.000    310.0    4.786   -74.049   \n",
       "2            0.000     2.000            0.000    152.0    4.814   -74.066   \n",
       "3           62.885     3.854            5.288      0.0    4.765   -74.038   \n",
       "4           12.136     4.566            0.000      0.0    4.752   -74.045   \n",
       "\n",
       "   ... Estrato 3 a�o 2018  Estrato 4 A�o 2018  Estrato 5 a�o 2018  \\\n",
       "0  ...                  0                   0                   0   \n",
       "1  ...                  0                   0                 197   \n",
       "2  ...                  0                  24                   0   \n",
       "3  ...              71191                4363                5986   \n",
       "4  ...              21509                8092                   0   \n",
       "\n",
       "   Estrato 6 A�o 2018  Paquetes por UPZ  Precio promedio por m� por UPZ  \\\n",
       "0                 504             13283                         2775093   \n",
       "1                 183              4867                         5211913   \n",
       "2                1835             27837                         7369048   \n",
       "3                   0            522606                         2099151   \n",
       "4                   0            159236                         2501438   \n",
       "\n",
       "   Paquetes/Precio  Puntaje paqueteria  Puntaje precio  Puntaje total  \n",
       "0        0,0047865                   0              13              7  \n",
       "1        0,0009339                   0               6              3  \n",
       "2        0,0037775                   1               1              1  \n",
       "3        0,2489608                  10              15             13  \n",
       "4        0,0636578                   3              14              9  \n",
       "\n",
       "[5 rows x 24 columns]"
      ]
     },
     "execution_count": 3,
     "metadata": {},
     "output_type": "execute_result"
    }
   ],
   "source": [
    "plt.rcParams['figure.figsize']=(16,9)\n",
    "plt.style.use('ggplot')\n",
    "dataframe = pd.read_csv(r\"Base de Datos/Hoja de cálculo UPZ y localidaes.csv\", sep = ';')\n",
    "dataframe.head()"
   ]
  },
  {
   "cell_type": "code",
   "execution_count": 4,
   "id": "ca4eaf4e",
   "metadata": {},
   "outputs": [
    {
     "name": "stdout",
     "output_type": "stream",
     "text": [
      "Señor usuario, porfavor ingrese el numero 1 si desea escoger los centros de envío solo teniendo en cuenta la cantidad de paquetes de la zona, 2 para tener en cueta solo el precio de arrendamiento de la zona y 3 si quiere tener en cuenta ambos factores: 3\n"
     ]
    }
   ],
   "source": [
    "Seleccion = int(input(\"Señor usuario, porfavor ingrese el numero 1 si desea escoger los centros de envío solo teniendo en cuenta la cantidad de paquetes de la zona, 2 para tener en cueta solo el precio de arrendamiento de la zona y 3 si quiere tener en cuenta ambos factores: \"))\n",
    "if(Seleccion == 1):\n",
    "    dataframe2 = dataframe[['Latitud',\"Longitud\",\"Puntaje paqueteria\"]].to_numpy()\n",
    "elif(Seleccion == 2):\n",
    "    dataframe2 = dataframe[['Latitud',\"Longitud\",\"Puntaje precio\"]].to_numpy()\n",
    "elif(Seleccion == 3):\n",
    "    dataframe2 = dataframe[['Latitud',\"Longitud\",\"Puntaje total\"]].to_numpy()"
   ]
  },
  {
   "cell_type": "code",
   "execution_count": 5,
   "id": "83936777",
   "metadata": {},
   "outputs": [],
   "source": [
    "matriz = []\n",
    "for i in range(112):\n",
    "    fugaz = [0.0,0.0]\n",
    "    for j in range(3):\n",
    "        if(j == 2):\n",
    "            for b in range(int(dataframe2[i][j])):\n",
    "                matriz.append(fugaz)\n",
    "        else:\n",
    "            fugaz[j] = float(dataframe2[i][j])"
   ]
  },
  {
   "cell_type": "code",
   "execution_count": 6,
   "id": "e49c758c",
   "metadata": {
    "scrolled": false
   },
   "outputs": [
    {
     "name": "stdout",
     "output_type": "stream",
     "text": [
      "ingrese el numero de clusters: 8\n"
     ]
    }
   ],
   "source": [
    "numero_clusters = int(input(\"ingrese el numero de clusters: \"))\n",
    "kmeans = KMeans(n_clusters = numero_clusters, random_state = 0).fit(matriz)\n",
    "kmeans.labels_\n",
    "kmeans.cluster_centers_\n",
    "centros = kmeans.cluster_centers_"
   ]
  },
  {
   "cell_type": "code",
   "execution_count": 7,
   "id": "797e9581",
   "metadata": {},
   "outputs": [],
   "source": [
    "matriz1=[]\n",
    "for i in range(len(matriz)):\n",
    "    matriz1.append(matriz[i][0])\n",
    "\n",
    "matriz2=[]\n",
    "for i in range(len(matriz)):\n",
    "    matriz2.append(matriz[i][1])\n",
    "    \n",
    "centros1=[]\n",
    "for i in range(len(centros)):\n",
    "    centros1.append(centros[i][0])\n",
    "\n",
    "centros2=[]\n",
    "for i in range(len(centros)):\n",
    "    centros2.append(centros[i][1])"
   ]
  },
  {
   "cell_type": "code",
   "execution_count": 8,
   "id": "926e226f",
   "metadata": {},
   "outputs": [
    {
     "data": {
      "image/png": "[encoded data removed]",
      "text/plain": [
       "<Figure size 1152x648 with 1 Axes>"
      ]
     },
     "metadata": {},
     "output_type": "display_data"
    }
   ],
   "source": [
    "fig = plt.figure()\n",
    "fig1 = plt.scatter(matriz1,matriz2)\n",
    "fig2 = plt.scatter(centros1,centros2,marker = '*', s = 500)"
   ]
  },
  {
   "cell_type": "code",
   "execution_count": null,
   "id": "e9330676",
   "metadata": {},
   "outputs": [],
   "source": []
  }
 ],
 "metadata": {
  "kernelspec": {
   "display_name": "Python 3",
   "language": "python",
   "name": "python3"
  },
  "language_info": {
   "codemirror_mode": {
    "name": "ipython",
    "version": 3
   },
   "file_extension": ".py",
   "mimetype": "text/x-python",
   "name": "python",
   "nbconvert_exporter": "python",
   "pygments_lexer": "ipython3",
   "version": "3.8.8"
  }
 },
 "nbformat": 4,
 "nbformat_minor": 5
}
